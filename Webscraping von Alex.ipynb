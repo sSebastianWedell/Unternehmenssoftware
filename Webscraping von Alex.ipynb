{
 "cells": [
  {
   "cell_type": "code",
   "execution_count": 18,
   "id": "80af0d1b",
   "metadata": {},
   "outputs": [],
   "source": [
    "import os\n",
    "import requests\n",
    "import io\n",
    "import time\n",
    "from PIL import Image\n",
    "import hashlib\n",
    "from selenium import webdriver\n",
    "DRIVER_PATH='C:/Users/Smurf/Desktop/chromedriver.exe'"
   ]
  },
  {
   "cell_type": "code",
   "execution_count": 19,
   "id": "bdbf327c",
   "metadata": {},
   "outputs": [],
   "source": [
    "def fetch_image_urls(query:str, max_links_to_fetch:int, wd:webdriver, sleep_between_interactions:int=1):\n",
    "    def scroll_to_end(wd):\n",
    "        wd.execute_script(\"window.scrollTo(0, document.body.scrollHeight);\")\n",
    "        time.sleep(sleep_between_interactions)    \n",
    "    \n",
    "    \n",
    "    search_url = \"https://www.google.com/search?safe=off&site=&tbm=isch&source=hp&q={q}&oq={q}&gs_l=img\"\n",
    "\n",
    "    \n",
    "    wd.get(search_url.format(q=query))\n",
    "\n",
    "    image_urls = set()\n",
    "    image_count = 0\n",
    "    results_start = 0\n",
    "    while image_count < max_links_to_fetch:\n",
    "        scroll_to_end(wd)\n",
    "\n",
    "      \n",
    "        thumbnail_results = wd.find_elements_by_css_selector(\"img.Q4LuWd\")\n",
    "        number_results = len(thumbnail_results)\n",
    "        \n",
    "        print(f\"Gefunden: {number_results} Suchergebnisse. Extrahiere Links von {results_start}:{number_results}\")\n",
    "        \n",
    "        for img in thumbnail_results[results_start:number_results]:\n",
    "          \n",
    "            try:\n",
    "                img.click()\n",
    "                time.sleep(sleep_between_interactions)\n",
    "            except Exception:\n",
    "                continue\n",
    "\n",
    "              \n",
    "            actual_images = wd.find_elements_by_css_selector('img.n3VNCb')\n",
    "            for actual_image in actual_images:\n",
    "                if actual_image.get_attribute('src') and 'http' in actual_image.get_attribute('src'):\n",
    "                    image_urls.add(actual_image.get_attribute('src'))\n",
    "\n",
    "            image_count = len(image_urls)\n",
    "\n",
    "            if len(image_urls) >= max_links_to_fetch:\n",
    "                print(f\"Gefundene Bilderlinks: {len(image_urls)}, Fertig!\")\n",
    "                break\n",
    "        else:\n",
    "            print(\"Gefundene Bilderlinks:\", len(image_urls), \", suche weiter ...\")\n",
    "            time.sleep(30)\n",
    "            return\n",
    "            load_more_button = wd.find_element_by_css_selector(\".mye4qd\")\n",
    "            if load_more_button:\n",
    "                wd.execute_script(\"document.querySelector('.mye4qd').click();\")\n",
    "\n",
    "       \n",
    "        results_start = len(thumbnail_results)\n",
    "\n",
    "    return image_urls"
   ]
  },
  {
   "cell_type": "code",
   "execution_count": 20,
   "id": "69b46c8a",
   "metadata": {},
   "outputs": [],
   "source": [
    "def persist_image(folder_path:str,url:str):\n",
    "    try:\n",
    "        image_content = requests.get(url).content\n",
    "\n",
    "    except Exception as e:\n",
    "        print(f\"ERROR - Konnte nicht herunterladen {url} - {e}\")\n",
    "\n",
    "    try:\n",
    "        image_file = io.BytesIO(image_content)\n",
    "        image = Image.open(image_file).convert('RGB')\n",
    "        file_path = os.path.join(folder_path,hashlib.sha1(image_content).hexdigest()[:10] + '.jpg')\n",
    "        with open(file_path, 'wb') as f:\n",
    "            image.save(f, \"JPEG\", quality=85)\n",
    "        print(f\"Fertig - gespeichert {url} - als {file_path}\")\n",
    "    except Exception as e:\n",
    "        print(f\"ERROR - Speicherfehler {url} - {e}\")"
   ]
  },
  {
   "cell_type": "code",
   "execution_count": 21,
   "id": "aba3ae51",
   "metadata": {},
   "outputs": [],
   "source": [
    "def search_and_download(search_term:str,driver_path:str,number_images:int,target_path='C:/Users/Smurf/Pictures'):\n",
    "    target_folder = os.path.join(target_path,'_'.join(search_term.lower().split(' ')))\n",
    "\n",
    "    if not os.path.exists(target_folder):\n",
    "        os.makedirs(target_folder)\n",
    "\n",
    "    with webdriver.Chrome(executable_path=driver_path) as wd:\n",
    "        res = fetch_image_urls(search_term, number_images, wd=wd, sleep_between_interactions=0.5)\n",
    "        \n",
    "    for elem in res:\n",
    "        persist_image(target_folder,elem)\n",
    "        "
   ]
  },
  {
   "cell_type": "code",
   "execution_count": 22,
   "id": "7492deb0",
   "metadata": {},
   "outputs": [
    {
     "name": "stderr",
     "output_type": "stream",
     "text": [
      "<ipython-input-21-f9a670009594>:7: DeprecationWarning: executable_path has been deprecated, please pass in a Service object\n",
      "  with webdriver.Chrome(executable_path=driver_path) as wd:\n",
      "<ipython-input-19-f0da10b09b22>:19: DeprecationWarning: find_elements_by_* commands are deprecated. Please use find_elements() instead\n",
      "  thumbnail_results = wd.find_elements_by_css_selector(\"img.Q4LuWd\")\n"
     ]
    },
    {
     "name": "stdout",
     "output_type": "stream",
     "text": [
      "Gefunden: 100 Suchergebnisse. Extrahiere Links von 0:100\n"
     ]
    },
    {
     "name": "stderr",
     "output_type": "stream",
     "text": [
      "<ipython-input-19-f0da10b09b22>:33: DeprecationWarning: find_elements_by_* commands are deprecated. Please use find_elements() instead\n",
      "  actual_images = wd.find_elements_by_css_selector('img.n3VNCb')\n"
     ]
    },
    {
     "name": "stdout",
     "output_type": "stream",
     "text": [
      "Gefundene Bilderlinks: 5, Fertig!\n",
      "Fertig - gespeichert https://encrypted-tbn0.gstatic.com/images?q=tbn:ANd9GcTujfO6pNNXGYl9EGQDQi2KRFssbmJY_0fqMw&usqp=CAU - als C:/Users/Smurf/Pictures\\mona_lisa\\7087cf0512.jpg\n",
      "Fertig - gespeichert https://static.dw.com/image/57811475_303.jpg - als C:/Users/Smurf/Pictures\\mona_lisa\\66d742913f.jpg\n",
      "Fertig - gespeichert https://encrypted-tbn0.gstatic.com/images?q=tbn:ANd9GcQ4ZOyHgWLxALNO9Af7OSa1V6s9UEpzkWWfbg&usqp=CAU - als C:/Users/Smurf/Pictures\\mona_lisa\\4b991e8a1c.jpg\n",
      "Fertig - gespeichert https://cdn.prod.www.spiegel.de/images/2bf57351-315c-48c9-aa2b-db43a090912a_w948_r1.778_fpx50_fpy30.jpg - als C:/Users/Smurf/Pictures\\mona_lisa\\f2ce2a6f81.jpg\n",
      "Fertig - gespeichert https://encrypted-tbn0.gstatic.com/images?q=tbn:ANd9GcTxs-2amvo9Je3at_3jLqnUAsVv0gMKyrz5Rg&usqp=CAU - als C:/Users/Smurf/Pictures\\mona_lisa\\680ef8b92a.jpg\n"
     ]
    }
   ],
   "source": [
    "search_term = 'Mona Lisa'\n",
    "number_images=5\n",
    "\n",
    "search_and_download(\n",
    "    search_term=search_term,\n",
    "    driver_path=DRIVER_PATH,\n",
    "    number_images=number_images\n",
    ")"
   ]
  }
 ],
 "metadata": {
  "kernelspec": {
   "display_name": "Python 3",
   "language": "python",
   "name": "python3"
  },
  "language_info": {
   "codemirror_mode": {
    "name": "ipython",
    "version": 3
   },
   "file_extension": ".py",
   "mimetype": "text/x-python",
   "name": "python",
   "nbconvert_exporter": "python",
   "pygments_lexer": "ipython3",
   "version": "3.8.8"
  }
 },
 "nbformat": 4,
 "nbformat_minor": 5
}
