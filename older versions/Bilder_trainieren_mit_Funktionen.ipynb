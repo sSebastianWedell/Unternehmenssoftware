{
 "cells": [
  {
   "cell_type": "code",
   "execution_count": 1,
   "id": "99dd38a6",
   "metadata": {},
   "outputs": [],
   "source": [
    "import os\n",
    "from tensorflow.keras.models import Model, Sequential\n",
    "from tensorflow.keras.layers import Dense, Flatten, Dropout\n",
    "from tensorflow.keras.applications import VGG16\n",
    "from tensorflow.keras.applications.vgg16 import preprocess_input, decode_predictions\n",
    "from tensorflow.keras.preprocessing.image import ImageDataGenerator\n",
    "from tensorflow.keras.optimizers import Adam, RMSprop\n",
    "import numpy as np\n",
    "from keras.preprocessing import image"
   ]
  },
  {
   "cell_type": "code",
   "execution_count": 46,
   "id": "397226c5",
   "metadata": {},
   "outputs": [],
   "source": [
    "def Bildtext(string):\n",
    "    for x, y in train_generator.class_indices.items():\n",
    "        if y == np.argmax(string):\n",
    "            print(x)"
   ]
  },
  {
   "cell_type": "code",
   "execution_count": 53,
   "id": "b2a6586b",
   "metadata": {},
   "outputs": [],
   "source": [
    "def Bildvorhersage(path):\n",
    "    img = image.load_img(path, target_size=(224, 224))\n",
    "    x = image.img_to_array(img)\n",
    "    x = np.expand_dims(x, axis=0)\n",
    "\n",
    "    images = np.vstack([x])\n",
    "    classes = model.predict(images, batch_size=10)\n",
    "    Bildtext(classes)"
   ]
  },
  {
   "cell_type": "code",
   "execution_count": 2,
   "id": "b4bb3c4a",
   "metadata": {},
   "outputs": [],
   "source": [
    "vgg16_model = VGG16(include_top = False,input_shape=(224,224,3))\n",
    "#vgg16_model.summary()"
   ]
  },
  {
   "cell_type": "code",
   "execution_count": 3,
   "id": "9e604a15",
   "metadata": {},
   "outputs": [],
   "source": [
    "model = Sequential()\n",
    "model.add(vgg16_model)\n",
    "model.add(Flatten())\n",
    "model.add(Dense(4096, activation=\"relu\"))\n",
    "model.add(Dense(1024, activation=\"relu\"))\n",
    "model.add(Dense(3, activation=\"softmax\"))\n",
    "\n",
    "#model.compile(optimizer=Adam(learning_rate=0.00001),loss = \"categorical_crossentropy\", metrics = [\"acc\"])\n",
    "#model.summary()"
   ]
  },
  {
   "cell_type": "code",
   "execution_count": 4,
   "id": "07976d27",
   "metadata": {},
   "outputs": [
    {
     "name": "stdout",
     "output_type": "stream",
     "text": [
      "Found 144 images belonging to 3 classes.\n"
     ]
    }
   ],
   "source": [
    "TRAINING_DIR = \"Bilddaten/Train\"\n",
    "training_datagen = ImageDataGenerator(rescale = 1./255)\n",
    "\n",
    "train_generator = training_datagen.flow_from_directory(\n",
    "    TRAINING_DIR,\n",
    "    target_size = (224,224),\n",
    "    class_mode = 'categorical'\n",
    ")"
   ]
  },
  {
   "cell_type": "code",
   "execution_count": 38,
   "id": "4ba20613",
   "metadata": {},
   "outputs": [
    {
     "name": "stdout",
     "output_type": "stream",
     "text": [
      "dict_keys(['die_heilige_familie', 'erschaffung_adams', 'van_gogh_selbstbildnis'])\n"
     ]
    }
   ],
   "source": [
    "x = train_generator.class_indices.keys()\n",
    "print(x)"
   ]
  },
  {
   "cell_type": "raw",
   "id": "2ef045bd",
   "metadata": {},
   "source": []
  },
  {
   "cell_type": "code",
   "execution_count": 5,
   "id": "5c41ecb3",
   "metadata": {},
   "outputs": [
    {
     "name": "stdout",
     "output_type": "stream",
     "text": [
      "Found 144 images belonging to 3 classes.\n"
     ]
    }
   ],
   "source": [
    "VALIDATION_DIR = \"Bilddaten/Train\"\n",
    "validation_datagen = ImageDataGenerator(rescale = 1./255)\n",
    "validation_generator = validation_datagen.flow_from_directory(\n",
    "    VALIDATION_DIR,\n",
    "    target_size = (224,224),\n",
    "    class_mode = 'categorical'\n",
    ")"
   ]
  },
  {
   "cell_type": "code",
   "execution_count": 6,
   "id": "54aa36ca",
   "metadata": {},
   "outputs": [],
   "source": [
    "model.compile(optimizer=Adam(learning_rate=0.00001),loss = \"categorical_crossentropy\", metrics = [\"acc\"])"
   ]
  },
  {
   "cell_type": "code",
   "execution_count": 7,
   "id": "e5f8638f",
   "metadata": {},
   "outputs": [
    {
     "name": "stdout",
     "output_type": "stream",
     "text": [
      "Epoch 1/4\n",
      "5/5 [==============================] - 447s 92s/step - loss: 0.9297 - acc: 0.5833 - val_loss: 0.5972 - val_acc: 0.8333\n",
      "Epoch 2/4\n",
      "5/5 [==============================] - 437s 90s/step - loss: 0.4602 - acc: 0.8611 - val_loss: 0.2273 - val_acc: 0.9792\n",
      "Epoch 3/4\n",
      "5/5 [==============================] - 445s 102s/step - loss: 0.1802 - acc: 0.9792 - val_loss: 0.1154 - val_acc: 0.9861\n",
      "Epoch 4/4\n",
      "5/5 [==============================] - 451s 93s/step - loss: 0.0952 - acc: 0.9861 - val_loss: 0.0594 - val_acc: 0.9931\n"
     ]
    },
    {
     "data": {
      "text/plain": [
       "<keras.callbacks.History at 0x2f19989ad00>"
      ]
     },
     "execution_count": 7,
     "metadata": {},
     "output_type": "execute_result"
    }
   ],
   "source": [
    "model.fit(train_generator, epochs = 4,\n",
    "    validation_data = validation_generator,\n",
    "    verbose = 1)"
   ]
  },
  {
   "cell_type": "code",
   "execution_count": 49,
   "id": "ac41787c",
   "metadata": {},
   "outputs": [
    {
     "name": "stdout",
     "output_type": "stream",
     "text": [
      "erschaffung_adams\n"
     ]
    }
   ],
   "source": [
    "import numpy as np\n",
    "from keras.preprocessing import image\n",
    "\n",
    "img = image.load_img('C:/Users/Smurf/Desktop/57.jpg', target_size=(224, 224))\n",
    "x = image.img_to_array(img)\n",
    "x = np.expand_dims(x, axis=0)\n",
    "\n",
    "images = np.vstack([x])\n",
    "classes = model.predict(images, batch_size=10)\n",
    "Bildtext(classes)"
   ]
  },
  {
   "cell_type": "code",
   "execution_count": 50,
   "id": "511fb6f1",
   "metadata": {},
   "outputs": [
    {
     "name": "stdout",
     "output_type": "stream",
     "text": [
      "die_heilige_familie\n"
     ]
    }
   ],
   "source": [
    "import numpy as np\n",
    "from keras.preprocessing import image\n",
    "from tensorflow.keras.utils import to_categorical\n",
    "\n",
    "img = image.load_img('C:/Users/Smurf/Desktop/7.jpg', target_size=(224, 224))\n",
    "x = image.img_to_array(img)\n",
    "x = np.expand_dims(x, axis=0)\n",
    "\n",
    "images = np.vstack([x])\n",
    "classes = model.predict(images, batch_size=10)\n",
    "Bildtext(classes)"
   ]
  },
  {
   "cell_type": "code",
   "execution_count": 51,
   "id": "709e9884",
   "metadata": {},
   "outputs": [
    {
     "name": "stdout",
     "output_type": "stream",
     "text": [
      "van_gogh_selbstbildnis\n"
     ]
    }
   ],
   "source": [
    "import numpy as np\n",
    "from keras.preprocessing import image\n",
    "\n",
    "img = image.load_img('C:/Users/Smurf/Desktop/104.jpg', target_size=(224, 224))\n",
    "x = image.img_to_array(img)\n",
    "x = np.expand_dims(x, axis=0)\n",
    "\n",
    "images = np.vstack([x])\n",
    "classes = model.predict(images, batch_size=10)\n",
    "Bildtext(classes)"
   ]
  },
  {
   "cell_type": "code",
   "execution_count": 15,
   "id": "c4745454",
   "metadata": {},
   "outputs": [],
   "source": [
    "model.save(\"Bilderkennung.h5\")"
   ]
  },
  {
   "cell_type": "code",
   "execution_count": 54,
   "id": "fca6eb05",
   "metadata": {},
   "outputs": [
    {
     "name": "stdout",
     "output_type": "stream",
     "text": [
      "van_gogh_selbstbildnis\n"
     ]
    }
   ],
   "source": [
    "Bildvorhersage('C:/Users/Smurf/Desktop/104.jpg')"
   ]
  }
 ],
 "metadata": {
  "kernelspec": {
   "display_name": "Python 3",
   "language": "python",
   "name": "python3"
  },
  "language_info": {
   "codemirror_mode": {
    "name": "ipython",
    "version": 3
   },
   "file_extension": ".py",
   "mimetype": "text/x-python",
   "name": "python",
   "nbconvert_exporter": "python",
   "pygments_lexer": "ipython3",
   "version": "3.8.8"
  }
 },
 "nbformat": 4,
 "nbformat_minor": 5
}
