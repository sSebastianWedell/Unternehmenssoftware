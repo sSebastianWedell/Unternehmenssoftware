{
 "cells": [
  {
   "cell_type": "code",
   "execution_count": 7,
   "id": "2f196a57",
   "metadata": {},
   "outputs": [
    {
     "name": "stdout",
     "output_type": "stream",
     "text": [
      "michelangelo_buonarotti die_heilige_familie\n"
     ]
    },
    {
     "name": "stderr",
     "output_type": "stream",
     "text": [
      "<ipython-input-7-03a337c5daa6>:29: DeprecationWarning: executable_path has been deprecated, please pass in a Service object\n",
      "  driver = webdriver.Chrome(executable_path = 'C:/Users/Smurf/Desktop/chromedriver')\n",
      "<ipython-input-7-03a337c5daa6>:31: DeprecationWarning: find_element_by_* commands are deprecated. Please use find_element() instead\n",
      "  button = driver.find_element_by_css_selector('#L2AGLb > div')\n",
      "<ipython-input-7-03a337c5daa6>:35: DeprecationWarning: find_element_by_* commands are deprecated. Please use find_element() instead\n",
      "  box = driver.find_element_by_xpath('/html/body/div[1]/div[3]/form/div[1]/div[1]/div[1]/div/div[2]/input')\n",
      "<ipython-input-7-03a337c5daa6>:42: DeprecationWarning: find_element_by_* commands are deprecated. Please use find_element() instead\n",
      "  button = driver.find_element_by_css_selector('#i6 > div.FAZ4xe.FoDaAb > span > span:nth-child(1) > div > a')\n",
      "<ipython-input-7-03a337c5daa6>:51: DeprecationWarning: find_element_by_* commands are deprecated. Please use find_element() instead\n",
      "  driver.find_element_by_xpath('//*[@id=\"islmp\"]/div/div/div/div/div[5]/input').click()\n",
      "<ipython-input-7-03a337c5daa6>:83: DeprecationWarning: find_element_by_* commands are deprecated. Please use find_element() instead\n",
      "  driver.find_element_by_tag_name('body').send_keys(Keys.CONTROL + Keys.HOME)\n",
      "<ipython-input-7-03a337c5daa6>:85: DeprecationWarning: find_element_by_* commands are deprecated. Please use find_element() instead\n",
      "  driver.find_element_by_xpath('//*[@id=\"islrg\"]/div[1]/div['+str(i)+']/a[1]/div[1]/img').screenshot(''+dataPath+''+str(i)+'.png')\n"
     ]
    },
    {
     "name": "stdout",
     "output_type": "stream",
     "text": [
      "michelangelo_buonarotti die_erschaffung_adams\n",
      "vincent_van_gogh das nachtcafe\n",
      "vincent_van_gogh gemuesegaerten auf dem montmartre\n",
      "edvard_munch der_schrei\n",
      "edvard_munch der_kuss\n"
     ]
    }
   ],
   "source": [
    "import os\n",
    "from PIL import Image\n",
    "from shutil import copyfile\n",
    "from selenium import webdriver\n",
    "from selenium.webdriver.common.keys import Keys\n",
    "import time\n",
    "\n",
    "#wd = os.getcwd()\n",
    "#print(\"working directory is \", wd)\n",
    "\n",
    "# Hier den Dateipfard eingeben in dem sich der Ordner befindet <------------------ Aktion erforderlich\n",
    "# Dort muss auch die chromedriver.exe liegen\n",
    "#---------------------------------------------------------------\n",
    "dataPath = 'C:/Users/Smurf/Bildertest/'\n",
    "#---------------------------------------------------------------\n",
    "#---------------------------------------------------------------E:/08_Projekte/Unternehmenssoftware/picturesjapan/\n",
    "names = [\"michelangelo_buonarotti\", \"vincent_van_gogh\", \"edvard_munch\"]\n",
    "pieces = {\"michelangelo_buonarotti\": [\"die_heilige_familie\", \"die_erschaffung_adams\"], \n",
    "          \"vincent_van_gogh\": [\"das nachtcafe\",\"gemuesegaerten auf dem montmartre\"], \n",
    "          \"edvard_munch\": [\"der_schrei\", \"der_kuss\"]}\n",
    "#copyfile('./chromedriver.exe', dataPath)\n",
    "\n",
    "for dkey, dvalues in pieces.items():\n",
    "    for lvalue in dvalues:\n",
    "        element = dkey +' '+ lvalue\n",
    "        print(element)\n",
    "        \n",
    "        #opens chrome and confirms conditions\n",
    "        driver = webdriver.Chrome(executable_path = 'C:/Users/Smurf/Desktop/chromedriver')\n",
    "        driver.get('https://www.google.de/imghp')\n",
    "        button = driver.find_element_by_css_selector('#L2AGLb > div')\n",
    "        button.click()\n",
    "        \n",
    "        #types subject in search field\n",
    "        box = driver.find_element_by_xpath('/html/body/div[1]/div[3]/form/div[1]/div[1]/div[1]/div/div[2]/input')\n",
    "                \n",
    "        #element = 'edvard munch der schrei'\n",
    "        box.send_keys(element)\n",
    "        box.send_keys(Keys.ENTER)\n",
    "        \n",
    "        #open style \"original\"\n",
    "        button = driver.find_element_by_css_selector('#i6 > div.FAZ4xe.FoDaAb > span > span:nth-child(1) > div > a')\n",
    "        button.click()\n",
    "        \n",
    "        #Will keep scrolling down the webpage until it cannot scroll no more\n",
    "        last_height = driver.execute_script('return document.body.scrollHeight')\n",
    "        while True:\n",
    "            driver.execute_script('window.scrollTo(0,document.body.scrollHeight)')\n",
    "            new_height = driver.execute_script('return document.body.scrollHeight')\n",
    "            try:\n",
    "                driver.find_element_by_xpath('//*[@id=\"islmp\"]/div/div/div/div/div[5]/input').click()\n",
    "            except:\n",
    "                pass\n",
    "            if new_height == last_height:\n",
    "                break\n",
    "            last_height = new_height\n",
    "            \n",
    "        #checks if folder exists, if not create it\n",
    "        folder = ['test', 'valid', 'train']\n",
    "        folders = ['valid', 'train']\n",
    "\n",
    "        os.chdir(dataPath)\n",
    "        if not os.path.exists(folder[0]):\n",
    "            os.makedirs(folder[0])\n",
    "    \n",
    "        os.chdir(dataPath)\n",
    "        if not os.path.exists(folder[1]):\n",
    "            os.makedirs(folder[1])\n",
    "            \n",
    "        os.chdir(dataPath)\n",
    "        if not os.path.exists(folder[2]):\n",
    "            os.makedirs(folder[2])\n",
    "        \n",
    "        for s in folders:\n",
    "            os.chdir(''+dataPath+''+s+'/')\n",
    "            if not os.path.exists(''+dkey+'-'+lvalue+'/'):\n",
    "                os.makedirs(''+dkey+'-'+lvalue+'/')\n",
    "        \n",
    "                      \n",
    "        #takes screenshots from every picture in the range    \n",
    "        for i in range(1,15):\n",
    "            try:\n",
    "                driver.find_element_by_tag_name('body').send_keys(Keys.CONTROL + Keys.HOME)\n",
    "                time.sleep(0.2)\n",
    "                driver.find_element_by_xpath('//*[@id=\"islrg\"]/div[1]/div['+str(i)+']/a[1]/div[1]/img').screenshot(''+dataPath+''+str(i)+'.png')\n",
    "            except:\n",
    "                pass\n",
    "           \n",
    "        os.chdir(''+dataPath+'')\n",
    "        driver.close()\n",
    "        \n",
    "        #resizes all pictures\n",
    "        for j in range(1,15):\n",
    "            PATH = ''+str(j)+'.png'\n",
    "            if os.path.isfile(PATH) and os.access(PATH, os.R_OK):\n",
    "                if j <= 10:\n",
    "                    testtrain = 'train/'\n",
    "                elif j <= 13: \n",
    "                    testtrain = 'valid/'\n",
    "                else:\n",
    "                    testtrain = 'test/'\n",
    "                image = Image.open(''+str(j)+'.png')\n",
    "                new_image = image.resize((224, 224))\n",
    "                rgb_new_image = new_image.convert('RGB')\n",
    "                if testtrain == 'test/':\n",
    "                    rgb_new_image.save(''+testtrain+'/'+lvalue+'.jpg')\n",
    "                    #i = i + 1\n",
    "                else:\n",
    "                    rgb_new_image.save(''+testtrain+'/'+dkey+'-'+lvalue+'/'+dkey+'-'+lvalue+''+str(j)+'.jpg')\n",
    "                os.remove(''+str(j)+'.png')\n",
    "            else:\n",
    "                print(\"Either the file is missing or not readable\")"
   ]
  },
  {
   "cell_type": "markdown",
   "id": "14054e9b",
   "metadata": {},
   "source": [
    "# Importieren der notwendigen Module"
   ]
  },
  {
   "cell_type": "code",
   "execution_count": 1,
   "id": "99dd38a6",
   "metadata": {},
   "outputs": [],
   "source": [
    "import os\n",
    "from tensorflow.keras.models import Model, Sequential\n",
    "from tensorflow.keras.layers import Dense, Flatten, Dropout\n",
    "from tensorflow.keras.applications import VGG16\n",
    "from tensorflow.keras.applications.vgg16 import preprocess_input, decode_predictions\n",
    "from tensorflow.keras.preprocessing.image import ImageDataGenerator\n",
    "from tensorflow.keras.optimizers import Adam, RMSprop\n",
    "import numpy as np\n",
    "from keras.preprocessing import image\n",
    "from selenium import webdriver"
   ]
  },
  {
   "cell_type": "markdown",
   "id": "5b5ffd60",
   "metadata": {},
   "source": [
    "# Funktion fuer den Bildtitel mit Kuenstler und Aufruf von \"wikiAufruf\" "
   ]
  },
  {
   "cell_type": "code",
   "execution_count": 2,
   "id": "eaf9790e",
   "metadata": {},
   "outputs": [],
   "source": [
    "def Bildtext(string):\n",
    "    for x, y in train_generator.class_indices.items():\n",
    "        if y == np.argmax(string):\n",
    "            print(x)\n",
    "            maler,bild = x.split('-')\n",
    "            wikiAufruf(maler)"
   ]
  },
  {
   "cell_type": "markdown",
   "id": "c59f5a37",
   "metadata": {},
   "source": [
    "# Funktion fuer die Vorhersage eines geladenen Bildes"
   ]
  },
  {
   "cell_type": "code",
   "execution_count": 3,
   "id": "eb8848ec",
   "metadata": {},
   "outputs": [],
   "source": [
    "def Bildvorhersage(path):\n",
    "    img = image.load_img(path, target_size=(224, 224))\n",
    "    x = image.img_to_array(img)\n",
    "    x = np.expand_dims(x, axis=0)\n",
    "\n",
    "    images = np.vstack([x])\n",
    "    classes = model.predict(images, batch_size=10)\n",
    "    Bildtext(classes)"
   ]
  },
  {
   "cell_type": "markdown",
   "id": "ef900ffd",
   "metadata": {},
   "source": [
    "# Funktion fuer den Aufruf des Kuenstlers in Wikipedia"
   ]
  },
  {
   "cell_type": "code",
   "execution_count": 4,
   "id": "518323ac",
   "metadata": {},
   "outputs": [],
   "source": [
    "from selenium import webdriver\n",
    "\n",
    "def wikiAufruf(painter):\n",
    "    chrome_driver = webdriver.Chrome(executable_path = 'C:/Users/Smurf/Desktop/chromedriver')\n",
    "    chrome_driver.get('https://wikipedia.org')\n",
    "    chrome_driver.maximize_window()\n",
    "    sampleText = painter\n",
    "    search_field = chrome_driver.find_element_by_name('search')\n",
    "    search_field.send_keys(sampleText)\n",
    "    button = chrome_driver.find_element_by_css_selector('#search-form > fieldset > button > i')\n",
    "    button.click()"
   ]
  },
  {
   "cell_type": "markdown",
   "id": "4d003a7f",
   "metadata": {},
   "source": [
    "# Benutzung des VGG16 Models ohne \"Spitze\""
   ]
  },
  {
   "cell_type": "code",
   "execution_count": 5,
   "id": "5729cc08",
   "metadata": {},
   "outputs": [],
   "source": [
    "vgg16_model = VGG16(include_top = False,input_shape=(224,224,3))\n",
    "#vgg16_model.summary()"
   ]
  },
  {
   "cell_type": "markdown",
   "id": "be70bd86",
   "metadata": {},
   "source": [
    "# Ergaenzung des VGG16-Rumpfes mit eigenen Layern"
   ]
  },
  {
   "cell_type": "code",
   "execution_count": 6,
   "id": "9e604a15",
   "metadata": {},
   "outputs": [],
   "source": [
    "model = Sequential()\n",
    "model.add(vgg16_model)\n",
    "model.add(Flatten())\n",
    "model.add(Dense(4096, activation=\"relu\"))\n",
    "model.add(Dense(1024, activation=\"relu\"))\n",
    "model.add(Dense(6, activation=\"softmax\"))"
   ]
  },
  {
   "cell_type": "markdown",
   "id": "37c43dd1",
   "metadata": {},
   "source": [
    "# Einlesen der Trainingsdaten im Format 224x224"
   ]
  },
  {
   "cell_type": "code",
   "execution_count": 7,
   "id": "07976d27",
   "metadata": {},
   "outputs": [
    {
     "name": "stdout",
     "output_type": "stream",
     "text": [
      "Found 60 images belonging to 6 classes.\n"
     ]
    }
   ],
   "source": [
    "TRAINING_DIR = \"C:/Users/Smurf/Bildertest/train\"\n",
    "training_datagen = ImageDataGenerator(rescale = 1./255)\n",
    "\n",
    "train_generator = training_datagen.flow_from_directory(\n",
    "    TRAINING_DIR,\n",
    "    target_size = (224,224),\n",
    "    class_mode = 'categorical'\n",
    ")"
   ]
  },
  {
   "cell_type": "markdown",
   "id": "0eb67bb0",
   "metadata": {},
   "source": [
    "# Einlesen der Validierungsdaten im Format 224x224"
   ]
  },
  {
   "cell_type": "code",
   "execution_count": 8,
   "id": "5c41ecb3",
   "metadata": {},
   "outputs": [
    {
     "name": "stdout",
     "output_type": "stream",
     "text": [
      "Found 18 images belonging to 6 classes.\n"
     ]
    }
   ],
   "source": [
    "VALIDATION_DIR = \"C:/Users/Smurf/Bildertest/valid\"\n",
    "validation_datagen = ImageDataGenerator(rescale = 1./255)\n",
    "validation_generator = validation_datagen.flow_from_directory(\n",
    "    VALIDATION_DIR,\n",
    "    target_size = (224,224),\n",
    "    class_mode = 'categorical'\n",
    ")"
   ]
  },
  {
   "cell_type": "markdown",
   "id": "4e255b0f",
   "metadata": {},
   "source": [
    "# Kompilierung des Models mit Optimizer \"Adam\", learning_rate = 0.00001"
   ]
  },
  {
   "cell_type": "code",
   "execution_count": 9,
   "id": "54aa36ca",
   "metadata": {},
   "outputs": [],
   "source": [
    "model.compile(optimizer=Adam(learning_rate=0.00001),loss = \"categorical_crossentropy\", metrics = [\"acc\"])"
   ]
  },
  {
   "cell_type": "markdown",
   "id": "370c79f5",
   "metadata": {},
   "source": [
    "# trainieren des Models mit 3 Epochen"
   ]
  },
  {
   "cell_type": "code",
   "execution_count": 1,
   "id": "e5f8638f",
   "metadata": {},
   "outputs": [
    {
     "ename": "NameError",
     "evalue": "name 'model' is not defined",
     "output_type": "error",
     "traceback": [
      "\u001b[1;31m---------------------------------------------------------------------------\u001b[0m",
      "\u001b[1;31mNameError\u001b[0m                                 Traceback (most recent call last)",
      "\u001b[1;32m<ipython-input-1-fdaf1b436f0c>\u001b[0m in \u001b[0;36m<module>\u001b[1;34m\u001b[0m\n\u001b[1;32m----> 1\u001b[1;33m model.fit(train_generator, epochs = 3,\n\u001b[0m\u001b[0;32m      2\u001b[0m     \u001b[0mvalidation_data\u001b[0m \u001b[1;33m=\u001b[0m \u001b[0mvalidation_generator\u001b[0m\u001b[1;33m,\u001b[0m\u001b[1;33m\u001b[0m\u001b[1;33m\u001b[0m\u001b[0m\n\u001b[0;32m      3\u001b[0m     verbose = 1)\n",
      "\u001b[1;31mNameError\u001b[0m: name 'model' is not defined"
     ]
    }
   ],
   "source": [
    "model.fit(train_generator, epochs = 3,\n",
    "    validation_data = validation_generator,\n",
    "    verbose = 1)"
   ]
  },
  {
   "cell_type": "code",
   "execution_count": 13,
   "id": "328e0851",
   "metadata": {},
   "outputs": [
    {
     "name": "stdout",
     "output_type": "stream",
     "text": [
      "Vincent_van_Gogh-Selbstbildnis\n"
     ]
    },
    {
     "name": "stderr",
     "output_type": "stream",
     "text": [
      "<ipython-input-5-a448e9c721cd>:4: DeprecationWarning: executable_path has been deprecated, please pass in a Service object\n",
      "  chrome_driver = webdriver.Chrome(executable_path = 'C:/Users/Smurf/Desktop/chromedriver')\n",
      "<ipython-input-5-a448e9c721cd>:8: DeprecationWarning: find_element_by_* commands are deprecated. Please use find_element() instead\n",
      "  search_field = chrome_driver.find_element_by_name('search')\n",
      "<ipython-input-5-a448e9c721cd>:10: DeprecationWarning: find_element_by_* commands are deprecated. Please use find_element() instead\n",
      "  button = chrome_driver.find_element_by_css_selector('#search-form > fieldset > button > i')\n"
     ]
    }
   ],
   "source": [
    "suchtext = Bildvorhersage('104.jpg')"
   ]
  }
 ],
 "metadata": {
  "kernelspec": {
   "display_name": "Python 3",
   "language": "python",
   "name": "python3"
  },
  "language_info": {
   "codemirror_mode": {
    "name": "ipython",
    "version": 3
   },
   "file_extension": ".py",
   "mimetype": "text/x-python",
   "name": "python",
   "nbconvert_exporter": "python",
   "pygments_lexer": "ipython3",
   "version": "3.8.8"
  }
 },
 "nbformat": 4,
 "nbformat_minor": 5
}
