{
 "cells": [
  {
   "cell_type": "markdown",
   "id": "83c61c7a",
   "metadata": {},
   "source": [
    "# Please adjust data path"
   ]
  },
  {
   "cell_type": "code",
   "execution_count": 14,
   "id": "d04c489a",
   "metadata": {},
   "outputs": [],
   "source": [
    "# Hier den Dateipfard eingeben in dem sich der Ordner befindet \n",
    "# Dort muss auch die chromedriver.exe liegen\n",
    "#C:/Users/Sliwi/Desktop/Bildertest/\n",
    "dataPath = 'C:/Users/Sliwi/Desktop/Bildertest/'\n"
   ]
  },
  {
   "cell_type": "code",
   "execution_count": 15,
   "id": "7668e3db",
   "metadata": {},
   "outputs": [
    {
     "name": "stdout",
     "output_type": "stream",
     "text": [
      "michelangelo_buonarotti die_heilige_familie\n"
     ]
    },
    {
     "name": "stderr",
     "output_type": "stream",
     "text": [
      "<ipython-input-15-ac7ab355bbfc>:20: DeprecationWarning: executable_path has been deprecated, please pass in a Service object\n",
      "  driver = webdriver.Chrome(''+dataPath+'chromedriver.exe')\n",
      "<ipython-input-15-ac7ab355bbfc>:22: DeprecationWarning: find_element_by_* commands are deprecated. Please use find_element() instead\n",
      "  button = driver.find_element_by_css_selector('#L2AGLb > div')\n",
      "<ipython-input-15-ac7ab355bbfc>:26: DeprecationWarning: find_element_by_* commands are deprecated. Please use find_element() instead\n",
      "  box = driver.find_element_by_xpath('/html/body/div[1]/div[3]/form/div[1]/div[1]/div[1]/div/div[2]/input')\n",
      "<ipython-input-15-ac7ab355bbfc>:33: DeprecationWarning: find_element_by_* commands are deprecated. Please use find_element() instead\n",
      "  button = driver.find_element_by_css_selector('#i6 > div.FAZ4xe.FoDaAb > span > span:nth-child(1) > div > a')\n",
      "<ipython-input-15-ac7ab355bbfc>:42: DeprecationWarning: find_element_by_* commands are deprecated. Please use find_element() instead\n",
      "  driver.find_element_by_xpath('//*[@id=\"islmp\"]/div/div/div/div/div[5]/input').click()\n",
      "<ipython-input-15-ac7ab355bbfc>:78: DeprecationWarning: find_element_by_* commands are deprecated. Please use find_element() instead\n",
      "  driver.find_element_by_tag_name('body').send_keys(Keys.CONTROL + Keys.HOME)\n",
      "<ipython-input-15-ac7ab355bbfc>:80: DeprecationWarning: find_element_by_* commands are deprecated. Please use find_element() instead\n",
      "  driver.find_element_by_xpath('//*[@id=\"islrg\"]/div[1]/div['+str(i)+']/a[1]/div[1]/img').screenshot(''+dataPath+''+str(i)+'.png')\n"
     ]
    },
    {
     "name": "stdout",
     "output_type": "stream",
     "text": [
      "michelangelo_buonarotti die_erschaffung_adams\n",
      "vincent_van_gogh das nachtcafe\n",
      "vincent_van_gogh gemuesegaerten auf dem montmartre\n",
      "edvard_munch der_schrei\n",
      "edvard_munch der_kuss\n"
     ]
    }
   ],
   "source": [
    "import os\n",
    "from PIL import Image\n",
    "from shutil import copyfile\n",
    "from selenium import webdriver\n",
    "from selenium.webdriver.common.keys import Keys\n",
    "import time\n",
    "\n",
    "#building an art-piece dictionary\n",
    "names = [\"michelangelo_buonarotti\", \"vincent_van_gogh\", \"edvard_munch\"]\n",
    "pieces = {\"michelangelo_buonarotti\": [\"die_heilige_familie\", \"die_erschaffung_adams\"], \n",
    "          \"vincent_van_gogh\": [\"das nachtcafe\",\"gemuesegaerten auf dem montmartre\"], \n",
    "          \"edvard_munch\": [\"der_schrei\", \"der_kuss\"]}\n",
    "k = 1\n",
    "for dkey, dvalues in pieces.items():\n",
    "    for lvalue in dvalues:\n",
    "        element = dkey +' '+ lvalue\n",
    "        print(element)\n",
    "        \n",
    "        #opens chrome and confirms conditions\n",
    "        driver = webdriver.Chrome(''+dataPath+'chromedriver.exe')\n",
    "        driver.get('https://www.google.de/imghp')\n",
    "        button = driver.find_element_by_css_selector('#L2AGLb > div')\n",
    "        button.click()\n",
    "        \n",
    "        #types subject in search field\n",
    "        box = driver.find_element_by_xpath('/html/body/div[1]/div[3]/form/div[1]/div[1]/div[1]/div/div[2]/input')\n",
    "                \n",
    "        #element = 'edvard munch der schrei'\n",
    "        box.send_keys(element)\n",
    "        box.send_keys(Keys.ENTER)\n",
    "        \n",
    "        #open style \"original\"\n",
    "        button = driver.find_element_by_css_selector('#i6 > div.FAZ4xe.FoDaAb > span > span:nth-child(1) > div > a')\n",
    "        button.click()\n",
    "        \n",
    "        #Will keep scrolling down the webpage until it cannot scroll no more\n",
    "        last_height = driver.execute_script('return document.body.scrollHeight')\n",
    "        while True:\n",
    "            driver.execute_script('window.scrollTo(0,document.body.scrollHeight)')\n",
    "            new_height = driver.execute_script('return document.body.scrollHeight')\n",
    "            try:\n",
    "                driver.find_element_by_xpath('//*[@id=\"islmp\"]/div/div/div/div/div[5]/input').click()\n",
    "            except:\n",
    "                pass\n",
    "            if new_height == last_height:\n",
    "                break\n",
    "            last_height = new_height\n",
    "            \n",
    "        #checks if folder exists, if not create it\n",
    "        folder = ['test', 'valid', 'train']\n",
    "        folders = ['valid', 'train']\n",
    "\n",
    "        os.chdir(dataPath)\n",
    "        if not os.path.exists(folder[0]):\n",
    "            os.makedirs(folder[0])\n",
    "    \n",
    "        os.chdir(dataPath)\n",
    "        if not os.path.exists(folder[1]):\n",
    "            os.makedirs(folder[1])\n",
    "            \n",
    "        os.chdir(dataPath)\n",
    "        if not os.path.exists(folder[2]):\n",
    "            os.makedirs(folder[2])\n",
    "            \n",
    "        os.chdir(dataPath+folder[0])\n",
    "        if not os.path.exists('aug'):\n",
    "            os.makedirs('aug')\n",
    "        \n",
    "        for s in folders:\n",
    "            os.chdir(''+dataPath+''+s+'/')\n",
    "            if not os.path.exists(''+dkey+'-'+lvalue+'/'):\n",
    "                os.makedirs(''+dkey+'-'+lvalue+'/')\n",
    "        \n",
    "                      \n",
    "        #takes screenshots from every picture in the range    \n",
    "        for i in range(1,15):\n",
    "            try:\n",
    "                driver.find_element_by_tag_name('body').send_keys(Keys.CONTROL + Keys.HOME)\n",
    "                time.sleep(0.2)\n",
    "                driver.find_element_by_xpath('//*[@id=\"islrg\"]/div[1]/div['+str(i)+']/a[1]/div[1]/img').screenshot(''+dataPath+''+str(i)+'.png')\n",
    "            except:\n",
    "                pass\n",
    "           \n",
    "        os.chdir(''+dataPath+'')\n",
    "        driver.close()\n",
    "        \n",
    "        #resizes all pictures\n",
    "        for j in range(1,15):\n",
    "            PATH = ''+str(j)+'.png'\n",
    "            if os.path.isfile(PATH) and os.access(PATH, os.R_OK):\n",
    "                if j <= 10:\n",
    "                    testtrain = 'train/'\n",
    "                elif j <= 13: \n",
    "                    testtrain = 'valid/'\n",
    "                else:\n",
    "                    testtrain = 'test/'\n",
    "                image = Image.open(''+str(j)+'.png')\n",
    "                new_image = image.resize((224, 224))\n",
    "                rgb_new_image = new_image.convert('RGB')\n",
    "                if testtrain == 'test/':\n",
    "                    rgb_new_image.save(testtrain+''+str(k)+'.jpg')\n",
    "                    rgb_new_image.save(testtrain+'/aug/'+str(k)+'.jpg')\n",
    "                    k = k + 1\n",
    "                else:\n",
    "                    rgb_new_image.save(''+testtrain+'/'+dkey+'-'+lvalue+'/'+dkey+'-'+lvalue+''+str(j)+'.jpg')\n",
    "                os.remove(''+str(j)+'.png')\n",
    "            else:\n",
    "                print(\"Either the file is missing or not readable\")"
   ]
  },
  {
   "cell_type": "markdown",
   "id": "14054e9b",
   "metadata": {},
   "source": [
    "# Importing the necessary modules"
   ]
  },
  {
   "cell_type": "code",
   "execution_count": 16,
   "id": "99dd38a6",
   "metadata": {},
   "outputs": [],
   "source": [
    "import os\n",
    "from tensorflow.keras.models import Model, Sequential\n",
    "from tensorflow.keras.layers import Dense, Flatten, Dropout\n",
    "from tensorflow.keras.applications import VGG16\n",
    "from tensorflow.keras.applications.vgg16 import preprocess_input, decode_predictions\n",
    "from tensorflow.keras.preprocessing.image import ImageDataGenerator\n",
    "from tensorflow.keras.optimizers import Adam, RMSprop\n",
    "import numpy as np\n",
    "from keras.preprocessing import image\n",
    "from tensorflow.keras.preprocessing.image import ImageDataGenerator"
   ]
  },
  {
   "cell_type": "markdown",
   "id": "5b5ffd60",
   "metadata": {},
   "source": [
    "# Function for the image title with artist and call of \"wikiAufruf\""
   ]
  },
  {
   "cell_type": "code",
   "execution_count": 17,
   "id": "eaf9790e",
   "metadata": {},
   "outputs": [],
   "source": [
    "def Bildtext(string):\n",
    "    for x, y in train_generator.class_indices.items():\n",
    "        if y == np.argmax(string):\n",
    "            print(x)\n",
    "            maler,bild = x.split('-')\n",
    "            wikiAufruf(maler)"
   ]
  },
  {
   "cell_type": "markdown",
   "id": "c59f5a37",
   "metadata": {},
   "source": [
    "# Function for the prediction of a loaded image"
   ]
  },
  {
   "cell_type": "code",
   "execution_count": 18,
   "id": "eb8848ec",
   "metadata": {},
   "outputs": [],
   "source": [
    "def Bildvorhersage(path):\n",
    "    img = image.load_img(path, target_size=(224, 224))\n",
    "    x = image.img_to_array(img)\n",
    "    x = np.expand_dims(x, axis=0)\n",
    "\n",
    "    images = np.vstack([x])\n",
    "    classes = model.predict(images, batch_size=10)   \n",
    "    Bildtext(classes)"
   ]
  },
  {
   "cell_type": "markdown",
   "id": "ef900ffd",
   "metadata": {},
   "source": [
    "# Function for calling the artist on Wikipedia"
   ]
  },
  {
   "cell_type": "code",
   "execution_count": 19,
   "id": "518323ac",
   "metadata": {},
   "outputs": [],
   "source": [
    "from selenium import webdriver\n",
    "import time\n",
    "\n",
    "def wikiAufruf(painter):\n",
    "    driver = webdriver.Chrome(''+dataPath+'chromedriver.exe')\n",
    "    driver.get('https://wikipedia.org')\n",
    "    driver.maximize_window()\n",
    "    search_field = driver.find_element_by_name('search')\n",
    "    search_field.send_keys(painter)\n",
    "    button = driver.find_element_by_css_selector('#search-form > fieldset > button > i')\n",
    "    button.click()\n",
    "    time.sleep(15)"
   ]
  },
  {
   "cell_type": "markdown",
   "id": "4d003a7f",
   "metadata": {},
   "source": [
    "# Use of the VGG16 model without \"top\""
   ]
  },
  {
   "cell_type": "code",
   "execution_count": 20,
   "id": "5729cc08",
   "metadata": {},
   "outputs": [],
   "source": [
    "vgg16_model = VGG16(include_top = False,input_shape=(224,224,3))\n",
    "#vgg16_model.summary()"
   ]
  },
  {
   "cell_type": "markdown",
   "id": "be70bd86",
   "metadata": {},
   "source": [
    "# addition of own layers to the VGG16 fuselage"
   ]
  },
  {
   "cell_type": "code",
   "execution_count": 21,
   "id": "9e604a15",
   "metadata": {},
   "outputs": [],
   "source": [
    "model = Sequential()\n",
    "model.add(vgg16_model)\n",
    "model.add(Flatten())\n",
    "model.add(Dense(4096, activation=\"relu\"))\n",
    "model.add(Dense(1024, activation=\"relu\"))\n",
    "model.add(Dense(6, activation=\"softmax\"))"
   ]
  },
  {
   "cell_type": "markdown",
   "id": "37c43dd1",
   "metadata": {},
   "source": [
    "# Reading of training data in 224x224 format"
   ]
  },
  {
   "cell_type": "code",
   "execution_count": 22,
   "id": "07976d27",
   "metadata": {},
   "outputs": [
    {
     "name": "stdout",
     "output_type": "stream",
     "text": [
      "Found 60 images belonging to 6 classes.\n"
     ]
    }
   ],
   "source": [
    "TRAINING_DIR = dataPath + \"train\"\n",
    "training_datagen = ImageDataGenerator(rescale = 1./255)\n",
    "\n",
    "train_generator = training_datagen.flow_from_directory(\n",
    "    TRAINING_DIR,\n",
    "    target_size = (224,224),\n",
    "    class_mode = 'categorical'\n",
    ")"
   ]
  },
  {
   "cell_type": "markdown",
   "id": "0eb67bb0",
   "metadata": {},
   "source": [
    "# Reading in the validation data in 224x224 format"
   ]
  },
  {
   "cell_type": "code",
   "execution_count": 23,
   "id": "5c41ecb3",
   "metadata": {},
   "outputs": [
    {
     "name": "stdout",
     "output_type": "stream",
     "text": [
      "Found 18 images belonging to 6 classes.\n"
     ]
    }
   ],
   "source": [
    "VALIDATION_DIR = dataPath + \"valid\"\n",
    "validation_datagen = ImageDataGenerator(rescale = 1./255)\n",
    "validation_generator = validation_datagen.flow_from_directory(\n",
    "    VALIDATION_DIR,\n",
    "    target_size = (224,224),\n",
    "    class_mode = 'categorical'\n",
    ")"
   ]
  },
  {
   "cell_type": "markdown",
   "id": "4e255b0f",
   "metadata": {},
   "source": [
    "# Compilation of the model with optimizer \"Adam\", learning_rate = 0.00001"
   ]
  },
  {
   "cell_type": "code",
   "execution_count": 24,
   "id": "54aa36ca",
   "metadata": {},
   "outputs": [],
   "source": [
    "model.compile(optimizer=Adam(learning_rate=0.00001),loss = \"categorical_crossentropy\", metrics = [\"acc\"])"
   ]
  },
  {
   "cell_type": "markdown",
   "id": "370c79f5",
   "metadata": {},
   "source": [
    "# Training of the model with 4 epochs"
   ]
  },
  {
   "cell_type": "code",
   "execution_count": 25,
   "id": "e5f8638f",
   "metadata": {},
   "outputs": [
    {
     "name": "stdout",
     "output_type": "stream",
     "text": [
      "2/2 [==============================] - 239s 137s/step - loss: 1.6770 - acc: 0.3833 - val_loss: 1.5163 - val_acc: 0.5556\n"
     ]
    },
    {
     "data": {
      "text/plain": [
       "<keras.callbacks.History at 0x1928a364340>"
      ]
     },
     "execution_count": 25,
     "metadata": {},
     "output_type": "execute_result"
    }
   ],
   "source": [
    "model.fit(train_generator, epochs = 1,\n",
    "    validation_data = validation_generator,\n",
    "    verbose = 1)"
   ]
  },
  {
   "cell_type": "markdown",
   "id": "d42c5f95",
   "metadata": {},
   "source": [
    "# Forecasting the unknown picture"
   ]
  },
  {
   "cell_type": "code",
   "execution_count": 26,
   "id": "328e0851",
   "metadata": {},
   "outputs": [
    {
     "name": "stdout",
     "output_type": "stream",
     "text": [
      "edvard_munch-der_schrei\n"
     ]
    },
    {
     "name": "stderr",
     "output_type": "stream",
     "text": [
      "<ipython-input-19-9941a5f2fccd>:5: DeprecationWarning: executable_path has been deprecated, please pass in a Service object\n",
      "  driver = webdriver.Chrome(''+dataPath+'chromedriver.exe')\n",
      "<ipython-input-19-9941a5f2fccd>:8: DeprecationWarning: find_element_by_* commands are deprecated. Please use find_element() instead\n",
      "  search_field = driver.find_element_by_name('search')\n",
      "<ipython-input-19-9941a5f2fccd>:10: DeprecationWarning: find_element_by_* commands are deprecated. Please use find_element() instead\n",
      "  button = driver.find_element_by_css_selector('#search-form > fieldset > button > i')\n"
     ]
    }
   ],
   "source": [
    "Bildvorhersage(dataPath+'test/''5.jpg')"
   ]
  },
  {
   "cell_type": "markdown",
   "id": "b1f47314",
   "metadata": {},
   "source": [
    "# Data augmentation for more images"
   ]
  },
  {
   "cell_type": "code",
   "execution_count": 27,
   "id": "e3e79823",
   "metadata": {},
   "outputs": [
    {
     "name": "stdout",
     "output_type": "stream",
     "text": [
      "Found 6 images belonging to 1 classes.\n"
     ]
    }
   ],
   "source": [
    "datagen = ImageDataGenerator(\n",
    "        rotation_range=40,\n",
    "        height_shift_range=0.2,\n",
    "        width_shift_range=0.2,\n",
    "        shear_range=0.2,\n",
    "        zoom_range=0.2,\n",
    "        horizontal_flip=True,\n",
    "        fill_mode='nearest')\n",
    "\n",
    "#loop over the data in batches and this automatically saves the images\n",
    "i = 0\n",
    "    \n",
    "for batch in datagen.flow_from_directory(dataPath + '/test', batch_size=6,target_size=(256,256),\n",
    "                          save_to_dir=dataPath + 'test/aug', save_format='jpg'):\n",
    "    i += 1\n",
    "    if i > 5:\n",
    "        break"
   ]
  }
 ],
 "metadata": {
  "kernelspec": {
   "display_name": "Python 3",
   "language": "python",
   "name": "python3"
  },
  "language_info": {
   "codemirror_mode": {
    "name": "ipython",
    "version": 3
   },
   "file_extension": ".py",
   "mimetype": "text/x-python",
   "name": "python",
   "nbconvert_exporter": "python",
   "pygments_lexer": "ipython3",
   "version": "3.8.8"
  }
 },
 "nbformat": 4,
 "nbformat_minor": 5
}
